{
 "cells": [
  {
   "cell_type": "code",
   "execution_count": 1,
   "metadata": {},
   "outputs": [
    {
     "data": {
      "application/vnd.jupyter.widget-view+json": {
       "model_id": "3d51523c9e4d4a68810c0ba1a1a06c8f",
       "version_major": 2,
       "version_minor": 0
      },
      "text/plain": [
       "interactive(children=(FloatSlider(value=1.0, continuous_update=False, description='Brightness:', max=2.0), Out…"
      ]
     },
     "metadata": {},
     "output_type": "display_data"
    },
    {
     "data": {
      "application/vnd.jupyter.widget-view+json": {
       "model_id": "72cce19967c941feb852e3a9de10a465",
       "version_major": 2,
       "version_minor": 0
      },
      "text/plain": [
       "interactive(children=(FloatSlider(value=1.0, continuous_update=False, description='Brightness:', max=2.0), Out…"
      ]
     },
     "metadata": {},
     "output_type": "display_data"
    }
   ],
   "source": [
    "import ipywidgets as widgets\n",
    "from IPython.display import display\n",
    "from PIL import Image, ImageEnhance\n",
    "import matplotlib.pyplot as plt\n",
    "\n",
    "# Load the images\n",
    "uploaded_file = \"./dog_small.png\"\n",
    "img1 = Image.open(uploaded_file) if uploaded_file else None\n",
    "\n",
    "second_uploaded_file = \"./cat_small.png\"\n",
    "img2 = Image.open(second_uploaded_file) if second_uploaded_file else None\n",
    "\n",
    "# Function to update the image based on slider value\n",
    "def update_image(image, brightness):\n",
    "    if image:\n",
    "        enhancer = ImageEnhance.Brightness(image)\n",
    "        img_enhanced = enhancer.enhance(brightness)\n",
    "        \n",
    "        plt.figure(figsize=(5, 5))\n",
    "        plt.imshow(img_enhanced)\n",
    "        plt.axis('off')\n",
    "        plt.show()\n",
    "\n",
    "# Create a slider widget\n",
    "slider = widgets.FloatSlider(\n",
    "    value=1.0,\n",
    "    min=0.0,\n",
    "    max=2.0,\n",
    "    step=0.1,\n",
    "    description='Brightness:',\n",
    "    continuous_update=False\n",
    ")\n",
    "\n",
    "# Display the slider and the image for img1\n",
    "interactive_plot1 = widgets.interactive(update_image, image=widgets.fixed(img1), brightness=slider)\n",
    "display(interactive_plot1)\n",
    "\n",
    "# Display the slider and the image for img2\n",
    "interactive_plot2 = widgets.interactive(update_image, image=widgets.fixed(img2), brightness=slider)\n",
    "display(interactive_plot2)"
   ]
  }
 ],
 "metadata": {
  "kernelspec": {
   "display_name": "mainpy",
   "language": "python",
   "name": "python3"
  },
  "language_info": {
   "codemirror_mode": {
    "name": "ipython",
    "version": 3
   },
   "file_extension": ".py",
   "mimetype": "text/x-python",
   "name": "python",
   "nbconvert_exporter": "python",
   "pygments_lexer": "ipython3",
   "version": "3.13.1"
  }
 },
 "nbformat": 4,
 "nbformat_minor": 2
}
