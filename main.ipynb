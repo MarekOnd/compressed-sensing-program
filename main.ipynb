{
 "cells": [
  {
   "cell_type": "code",
   "execution_count": 81,
   "id": "37512d16-6b95-4b1a-9fad-a3b91ff47009",
   "metadata": {},
   "outputs": [],
   "source": [
    "import pandas as pd\n",
    "import argparse as ap\n",
    "import datetime as dt\n",
    "import numpy as np\n",
    "from PIL import Image\n",
    "import ipywidgets as widgets\n",
    "from IPython.display import display\n",
    "import matplotlib.pyplot as plt\n",
    "\n",
    "def to_img(arr):\n",
    "    return Image.fromarray(np.uint8(arr))\n",
    "\n",
    "def update_image(image):\n",
    "    fig, ax = plt.subplots()\n",
    "    ax.imshow(image)\n",
    "    ax.axis('off')\n",
    "    plt.show()"
   ]
  },
  {
   "cell_type": "code",
   "execution_count": 82,
   "id": "099b2a96-248c-4d41-af34-4d3d6cbf51d9",
   "metadata": {},
   "outputs": [],
   "source": [
    "uploaded_file = \"./dog_small.png\"\n",
    "img1 = Image.open(uploaded_file) if uploaded_file else None\n",
    "\n",
    "second_uploaded_file = \"./parrot_small.png\"\n",
    "img2 = Image.open(second_uploaded_file) if second_uploaded_file else None"
   ]
  },
  {
   "cell_type": "code",
   "execution_count": 83,
   "id": "90f74e55",
   "metadata": {},
   "outputs": [
    {
     "data": {
      "application/vnd.jupyter.widget-view+json": {
       "model_id": "0f14bdceb0cf46d489498737edda74ae",
       "version_major": 2,
       "version_minor": 0
      },
      "text/plain": [
       "interactive(children=(Output(),), _dom_classes=('widget-interact',))"
      ]
     },
     "metadata": {},
     "output_type": "display_data"
    },
    {
     "data": {
      "application/vnd.jupyter.widget-view+json": {
       "model_id": "1c83847d48404c4fa46bf82ccfd8565d",
       "version_major": 2,
       "version_minor": 0
      },
      "text/plain": [
       "interactive(children=(Output(),), _dom_classes=('widget-interact',))"
      ]
     },
     "metadata": {},
     "output_type": "display_data"
    }
   ],
   "source": [
    "\n",
    "img1_plot = widgets.interactive(update_image, image = widgets.fixed(img1))\n",
    "img2_plot = widgets.interactive(update_image, image = widgets.fixed(img2))\n",
    "display(img1_plot,img2_plot)"
   ]
  },
  {
   "cell_type": "code",
   "execution_count": 84,
   "id": "f56bb4d0",
   "metadata": {},
   "outputs": [
    {
     "data": {
      "application/vnd.jupyter.widget-view+json": {
       "model_id": "3a17b0e507ea45c3a25771bce93cf55b",
       "version_major": 2,
       "version_minor": 0
      },
      "text/plain": [
       "FloatSlider(value=1.0, continuous_update=False, description='Lambda:', max=1.0, step=0.01)"
      ]
     },
     "metadata": {},
     "output_type": "display_data"
    }
   ],
   "source": [
    "parameter = widgets.FloatSlider(\n",
    "    value=1.0,\n",
    "    min=0.0,\n",
    "    max=1.0,\n",
    "    step=0.01,\n",
    "    description='Lambda:',\n",
    "    continuous_update=False\n",
    ")\n",
    "display(parameter)"
   ]
  },
  {
   "cell_type": "code",
   "execution_count": 94,
   "id": "7ecf3173",
   "metadata": {},
   "outputs": [
    {
     "data": {
      "application/vnd.jupyter.widget-view+json": {
       "model_id": "07ae6ea4209c486fb1bb15b470f740df",
       "version_major": 2,
       "version_minor": 0
      },
      "text/plain": [
       "HBox(children=(interactive(children=(Output(),), _dom_classes=('widget-interact',)), interactive(children=(Out…"
      ]
     },
     "metadata": {},
     "output_type": "display_data"
    },
    {
     "data": {
      "application/vnd.jupyter.widget-view+json": {
       "model_id": "7c55a984f19547dbb8ff6e4fd528ad16",
       "version_major": 2,
       "version_minor": 0
      },
      "text/plain": [
       "HBox(children=(interactive(children=(Output(),), _dom_classes=('widget-interact',)), interactive(children=(Out…"
      ]
     },
     "metadata": {},
     "output_type": "display_data"
    }
   ],
   "source": [
    "def mix_arrays_with_fft(arr1, arr2, parameter = 1):\n",
    "    \"\"\"\n",
    "    Interpolates the phases of two arrays after applying the discrete Fourier transform and then applies them to the strength of the second array.\n",
    "    parameter = 1 => phases only from the first array\n",
    "    parameter = 0 => phases only from the second array (nothing will be changed)\n",
    "    \"\"\"\n",
    "    fouriered1 = np.fft.fft2(arr1)\n",
    "    angles1 = np.angle(fouriered1)\n",
    "    strengths1 = np.abs(fouriered1)\n",
    "\n",
    "    fouriered2 = np.fft.fft2(arr2)\n",
    "    angles2 = np.angle(fouriered2)\n",
    "    strengths2 = np.abs(fouriered2)\n",
    "\n",
    "    angle_and_radius_mix = np.zeros(fouriered2.shape, dtype=complex)\n",
    "    for x in np.arange(fouriered1.shape[0]):\n",
    "        for y in np.arange(fouriered1.shape[1]):\n",
    "            angle = angles1[x,y]*parameter + angles2[x,y]*(1-parameter)\n",
    "            angle_and_radius_mix[x,y] = np.cos(angle) + np.sin(angle)*1j\n",
    "            angle_and_radius_mix[x,y] *= strengths2[x,y]\n",
    "\n",
    "    mixed = np.fft.ifft2(angle_and_radius_mix)\n",
    "    mixed = np.abs(mixed)\n",
    "    return mixed\n",
    "\n",
    "# Transformations of the first image\n",
    "def mix_images_with_fft_grayscale(img1, img2, parameter = 1):\n",
    "    \"\"\"\n",
    "    Interpolates the phases of two images after applying the discrete Fourier transform and then applies them to the strength of the second image.\n",
    "    parameter = 1 => phases only from the first image\n",
    "    parameter = 0 => phases only from the second image (nothing will be changed)\n",
    "    \"\"\"\n",
    "    array1 = np.asarray(img1)\n",
    "    black_and_white1 = np.round(0.3*array1[:,:,0] + 0.6*array1[:,:,1] + 0.11*array1[:,:,2])\n",
    "    \n",
    "    # Transformations of the second image\n",
    "    array2 = np.asarray(img2)\n",
    "    black_and_white2 = np.round(0.3*array2[:,:,0] + 0.6*array2[:,:,1] + 0.11*array2[:,:,2])\n",
    "   \n",
    "    return mix_arrays_with_fft(black_and_white1, black_and_white2, parameter)\n",
    "\n",
    "\n",
    "img_mixed = mix_images_with_fft_grayscale(img1, img2, parameter.value)\n",
    "img_mixed_plot = widgets.interactive(update_image, image = widgets.fixed(img_mixed))\n",
    "\n",
    "\n",
    "img_mixed_2 = mix_images_with_fft_grayscale(img2, img1, parameter.value)\n",
    "img_mixed_plot_2 = widgets.interactive(update_image, image = widgets.fixed(img_mixed_2))\n",
    "\n",
    "hbox = widgets.HBox([img1_plot, img2_plot])\n",
    "display(hbox)\n",
    "# Swapped to be in same order as in the paper\n",
    "hbox_mixed = widgets.HBox([img_mixed_plot_2,img_mixed_plot])\n",
    "display(hbox_mixed)\n",
    "\n"
   ]
  },
  {
   "cell_type": "code",
   "execution_count": 95,
   "id": "7ebcc701",
   "metadata": {},
   "outputs": [
    {
     "data": {
      "application/vnd.jupyter.widget-view+json": {
       "model_id": "57df9a4eafb54ed38e6638b1cb87172c",
       "version_major": 2,
       "version_minor": 0
      },
      "text/plain": [
       "HBox(children=(interactive(children=(Output(),), _dom_classes=('widget-interact',)), interactive(children=(Out…"
      ]
     },
     "metadata": {},
     "output_type": "display_data"
    },
    {
     "data": {
      "application/vnd.jupyter.widget-view+json": {
       "model_id": "db927e0b1e1548e09689fbdafd9e9b67",
       "version_major": 2,
       "version_minor": 0
      },
      "text/plain": [
       "HBox(children=(interactive(children=(Output(),), _dom_classes=('widget-interact',)), interactive(children=(Out…"
      ]
     },
     "metadata": {},
     "output_type": "display_data"
    }
   ],
   "source": [
    "# Transformations of the first image\n",
    "def mix_images_with_fft_rgb(img1, img2, parameter = 1):\n",
    "    \"\"\"\n",
    "    Interpolates the phases of two images after applying the discrete Fourier transform and then applies them to the strength of the second image.\n",
    "    parameter = 1 => phases only from the first image\n",
    "    parameter = 0 => phases only from the second image (nothing will be changed)\n",
    "    \"\"\"\n",
    "    array1 = np.asarray(img1)\n",
    "    array2 = np.asarray(img2)\n",
    "    \n",
    "    r_mixed = mix_arrays_with_fft(array1[:,:,0], array2[:,:,0], parameter)\n",
    "    g_mixed = mix_arrays_with_fft(array1[:,:,1], array2[:,:,1], parameter)\n",
    "    b_mixed = mix_arrays_with_fft(array1[:,:,2], array2[:,:,2], parameter)\n",
    "    return Image.fromarray(np.uint8(np.stack([r_mixed, g_mixed, b_mixed], axis=2)))\n",
    "\n",
    "\n",
    "img_mixed_rgb = mix_images_with_fft_rgb(img1, img2, parameter.value)\n",
    "img_mixed_rgb_plot = widgets.interactive(update_image, image = widgets.fixed(img_mixed_rgb))\n",
    "\n",
    "\n",
    "img_mixed_rgb_2 = mix_images_with_fft_rgb(img2, img1, parameter.value)\n",
    "img_mixed_rgb_plot_2 = widgets.interactive(update_image, image = widgets.fixed(img_mixed_rgb_2))\n",
    "\n",
    "hbox = widgets.HBox([img1_plot, img2_plot])\n",
    "display(hbox)\n",
    "# Swapped to be in same order as in the paper\n",
    "hbox_mixed = widgets.HBox([img_mixed_rgb_plot_2,img_mixed_rgb_plot])\n",
    "display(hbox_mixed)\n",
    "\n"
   ]
  }
 ],
 "metadata": {
  "kernelspec": {
   "display_name": "mainpy",
   "language": "python",
   "name": "python3"
  },
  "language_info": {
   "codemirror_mode": {
    "name": "ipython",
    "version": 3
   },
   "file_extension": ".py",
   "mimetype": "text/x-python",
   "name": "python",
   "nbconvert_exporter": "python",
   "pygments_lexer": "ipython3",
   "version": "3.13.1"
  }
 },
 "nbformat": 4,
 "nbformat_minor": 5
}
